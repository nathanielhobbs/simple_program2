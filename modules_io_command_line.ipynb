{
 "cells": [
  {
   "cell_type": "markdown",
   "metadata": {},
   "source": [
    "This python program is a multi-purpose tool that can perform various tasks related to calculations, strings, files, and commands. \n",
    "\n",
    "The program can be executed by running python main.py followed by optional arguments that specify the task to be performed and the input and output files. For example:\n",
    "\n",
    "-  python main.py -c sum 2 3 will perform addition of 2 and 3 using the calculator module and display the result on the screen.\n",
    "\n",
    "-  python main.py -s reverse -i hello.txt -o output.txt will reverse the string in hello.txt using the string manipulation module and write the result to output.txt.\n",
    "\n",
    "-  python main.py -h will display the help message that explains how to use the program and its arguments using the command line argument module.\n",
    "\n",
    "It consists of the following modules:\n",
    "\n",
    "- A calculator module that can perform basic arithmetic operations such as addition, subtraction, multiplication, and division on two numbers. The module can take input from the user or from a file and display the result on the screen or write it to a file.\n",
    "\n",
    "-  A string manipulation module that can perform various operations on strings such as reversing, *calculating word frequency*, concatenating, splitting, replacing, finding, counting, and sorting. \n",
    "\n",
    "-  A file io module that can read and write data from and to different types of text files. \n",
    "\n",
    "- A command line argument module that can parse and process the arguments passed to the program when it is executed from the terminal. The module can take input from the command line and display the result on the screen or write it to a file. (extra: It can also handle errors and exceptions related to invalid or missing arguments.)\n",
    "\n"
   ]
  },
  {
   "cell_type": "code",
   "execution_count": null,
   "metadata": {},
   "outputs": [],
   "source": []
  }
 ],
 "metadata": {
  "language_info": {
   "name": "python"
  }
 },
 "nbformat": 4,
 "nbformat_minor": 2
}
